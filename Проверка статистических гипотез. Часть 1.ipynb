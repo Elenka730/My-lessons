{
 "cells": [
  {
   "cell_type": "markdown",
   "metadata": {},
   "source": [
    "# Проверка статистических гипотез.Часть 1"
   ]
  },
  {
   "cell_type": "markdown",
   "metadata": {},
   "source": [
    "Сегодня мы начнем говорить о сплит-тестировании и его статистических основах."
   ]
  },
  {
   "cell_type": "code",
   "execution_count": 1,
   "metadata": {},
   "outputs": [],
   "source": [
    "import pandas as pd\n",
    "import numpy as np\n",
    "import seaborn as sns\n",
    "import matplotlib.pyplot as plt\n",
    "from scipy import stats"
   ]
  },
  {
   "cell_type": "markdown",
   "metadata": {},
   "source": [
    "# На этом занятии\n",
    "* Статистическая гипотеза.Определение;\n",
    "* Этапы проверки статистических гипотез;\n",
    "* Ошибки первого и второго рода;\n",
    "* Уровень значимости;\n",
    "* Статистические критерии\n",
    "* Параметрические критерии и непараметрические критерии;\n",
    "* Сравнение долей"
   ]
  },
  {
   "cell_type": "markdown",
   "metadata": {},
   "source": [
    "# 1 Статистическая гипотеза. Определение"
   ]
  },
  {
   "cell_type": "markdown",
   "metadata": {},
   "source": [
    "![mem](https://i.pinimg.com/564x/ea/74/2d/ea742de6dc014987b153a8accae41342.jpg)"
   ]
  },
  {
   "cell_type": "markdown",
   "metadata": {},
   "source": [
    "**Статистическая гипотеза** - это некоторое предположение о свойствах генеральной совокупности, которое необходимо проверить. Статистические гипотезы выдвигаются, когда необходимо проверить, является ли наблюдаемое явление элементом случайности или результатом воздействия некоторых наших действий. Например:\n",
    "* средний чек вырос просто так или потому что добавили рекомендацию сопутствующих товаров:\n",
    "* конверсия в поездку сама стала выше или сработало отображение какой-либо дополнительной информации на экране\n",
    "* и так далее"
   ]
  },
  {
   "cell_type": "markdown",
   "metadata": {},
   "source": [
    "**Суть проверки статистических гипотез** - проверить, имеет ли изменение статистическую значимость в рамках заданных нами параметров. Так как когда мы имеем дело с продуктом, которым пользуются миллионы клиентов, которые в свою очередь генерируют миллионы действий в нашем приложении, принимать решения становится все сложнее, так как любое изменение может привести к серьезным последствиям для наших клиентов, нашего продукта и бизнес показателей."
   ]
  },
  {
   "cell_type": "markdown",
   "metadata": {},
   "source": [
    "Но чем больше у вашего бизнеса клиентов, то есть чем больше объем выборки, тем более разнообразный математический (статистический) функционал вы можете использовать при обработке результатов ваших тестов."
   ]
  },
  {
   "cell_type": "markdown",
   "metadata": {},
   "source": [
    "**Важно** если мы проверили определенную гипотезу,например, что новый формат изменения способа оплата на экране оформления заказа влияет на конверсию в оплату и получили радостный положительный результат, как бы сильно нам не хотелось, мы не можем сразу увериться в том, что это изменение починит много наших болей, так как вероятность влияния других факторов никуда не пропадает. Старайтесь смотреть сопутствующие конверсии,например, как обстояла ситуация со сменой способа оплаты,на каком моменте пользователи отваливались и как это изменилось и так далее. "
   ]
  },
  {
   "cell_type": "markdown",
   "metadata": {},
   "source": [
    "# 2 Нулевая и альтернативная гипотезы"
   ]
  },
  {
   "cell_type": "markdown",
   "metadata": {},
   "source": [
    "![m](https://i.pinimg.com/564x/b4/fe/fa/b4fefa48bf3617510e15c3e94a8b11eb.jpg)"
   ]
  },
  {
   "cell_type": "markdown",
   "metadata": {},
   "source": [
    "**Первым этапом проверки** любой гипотезы,что логично, является ее формулировка. Мы всегда имеем основную гипотезу H0 и конкурирующую(альтернативную) - H1."
   ]
  },
  {
   "cell_type": "markdown",
   "metadata": {},
   "source": [
    "* Гипотезу, утверждающую, что различие между\n",
    "сравниваемыми характеристиками отсутствует, а\n",
    "наблюдаемые отклонения объясняются лишь\n",
    "случайными колебаниями в выборках, на основании\n",
    "которых производится сравнение, называют\n",
    "**нулевой (основной) гипотезой (Н0\n",
    ")**.\n",
    "* Наряду с основной гипотезой рассматривают и\n",
    "**альтернативную (конкурирующую,\n",
    "противоречащую) ей гипотезу Н1**.И если мы не можем принять нулевую гипотезу, то будет иметь место\n",
    "альтернативная гипотеза."
   ]
  },
  {
   "cell_type": "markdown",
   "metadata": {},
   "source": [
    "**Важно** нулевой гипотезой всегда называют предположение об отсутствии различий (равенстве) всегда, независимо от того, что мы проверяем. И важно не ошибиться. \n",
    "* 1) мы проверяем наличие различий между двумя выборками, нулевая гипотеза утвержает что выбранный параметр в выборках,например,среднее не отличается значимо;\n",
    "* 2) мы проверяем, что распределение подчиняется нормальному закону распределения (используем критерий согласия), в данном случае нулевая гипотеза опять же говорит нам о том, что разницы между законом распределения нашей выборки и между значениями нормального распределения нет. Таким образом, нулевая гипотеза не злой антагонист, который всегда оспаривает наши утверждения, нулевая гипотеза это ВСЕГДА гипотеза о равенстве"
   ]
  },
  {
   "cell_type": "markdown",
   "metadata": {},
   "source": [
    "**Например**"
   ]
  },
  {
   "cell_type": "markdown",
   "metadata": {},
   "source": [
    "![m](https://i.pinimg.com/originals/b8/8d/95/b88d95b69e0ba270d5cc719099125e95.png)"
   ]
  },
  {
   "cell_type": "markdown",
   "metadata": {},
   "source": [
    "# 3 Ошибки первого и второго рода"
   ]
  },
  {
   "cell_type": "markdown",
   "metadata": {},
   "source": [
    "Проверяя гипотезы, мы работаем с выборками, а значит всегда допускаем, что можем совершить ошибку и принять неверное предположение или не заметить значимого различия. \n",
    "<br>**Какие бывают ошибки и почему перед каждым сплит-тестированием мы должны продумать,какую из них нам критичнее не допускать и почему слишком большой и слишком маленький уровень значимости - плохо.**"
   ]
  },
  {
   "cell_type": "markdown",
   "metadata": {},
   "source": [
    "![errors](https://encrypted-tbn0.gstatic.com/images?q=tbn%3AANd9GcQ1ce6-OOtY2aN10Z60e5WlI3e7SE457EjKLJ79_DeiRMiL0bVZ&usqp=CAU)"
   ]
  },
  {
   "cell_type": "markdown",
   "metadata": {},
   "source": [
    "* **Ошибка первого рода** - нулевую гипотезу отвергают, когда она истинна, и делают вывод, что имеется эффект, когда в действительности его нет."
   ]
  },
  {
   "cell_type": "markdown",
   "metadata": {},
   "source": [
    "Ошибку первого рода контролирует исследователь. Принято считать, что нулевая гипотеза соответствует состоянию «по умолчанию» (естественному, наиболее ожидаемому положению вещей, например что средние чеки в двух группах пользователей не имеют отличия, что конечно не всегда радует команду того или иного продукта, которые хотят повлиять на этот показатель. Но все зависит от предметной области и специфики эксперимента,например,если средний чек в тестовой группе ниже и разница значима, то это явно хуже, чем отсутствие разницы.  Соответственно, альтернативная гипотеза обозначает противоположную ситуацию, которая обычно трактуется как менее вероятная, неординарная.\n",
    "\n",
    "С учётом вышесказанного, ошибку первого рода часто называют ложной тревогой, ложным срабатыванием или ложноположительным срабатыванием. Слово «ложноположительный» в данном случае не имеет отношения к желательности или нежелательности самого события.\n",
    "Максимальный шанс (вероятность) допустить ошибку 1-го рода обозначается α (альфа). Это уровень значимости критерия. Нулевую гипотезу отвергают, если наше значение p ниже уровня значимости, т. е., если p < α. И таким образом, шанс допустить ошибку 1-го рода никогда не превысит выбранного уровня значимости, скажем α = 0,05, так как нулевую гипотезу отвергают только тогда, когда p < 0,05. Если обнаружено, что p >= 0,05, то нулевую гипотезу не отвергнут и, следовательно, не допустят ошибки 1-го рода."
   ]
  },
  {
   "cell_type": "markdown",
   "metadata": {},
   "source": [
    "* **Ошибка 2-го рода**: не отвергают нулевую гипотезу, когда она ложна, и делают вывод, что нет эффекта, тогда как в действительности он существует. Шанс возникновения ошибки 2-го рода обозначается β (бета); а величина (1-β) называется мощностью критерия."
   ]
  },
  {
   "cell_type": "markdown",
   "metadata": {},
   "source": [
    "Таким образом, вероятность правильного не отвержения гипотезы Н0 будет равна 1-α (эта вероятность называется доверительной вероятностью), а вероятность правильного принятия гипотезы Н1 будет равна 1-β (эта вероятность называется мощностью или чувствительностью критерия, характеризуя его способность отклонять Н0, когда она не верна).\n",
    "   * ***Оптимальная величина α (критический уровень значимости) должна удовлетворять двум противоречивым требованиям***:\n",
    "  * 1) она должна быть достаточно мала, чтобы обеспечить высокое доверие к выводу об отклонении Н0;\n",
    "  * 2) но она должна быть достаточно велика, чтобы реже допускать ошибки 2-го рода."
   ]
  },
  {
   "cell_type": "markdown",
   "metadata": {},
   "source": [
    "**Уровень значимости должен стремиться к нулю, а мощность критерия к 1.**"
   ]
  },
  {
   "cell_type": "markdown",
   "metadata": {},
   "source": [
    "К ошибкам еще вернемся, обсудив уровень значимости))"
   ]
  },
  {
   "cell_type": "markdown",
   "metadata": {},
   "source": [
    "# 4 Уровень статистической значимости "
   ]
  },
  {
   "cell_type": "markdown",
   "metadata": {},
   "source": [
    "## 4.1 Определение"
   ]
  },
  {
   "cell_type": "markdown",
   "metadata": {},
   "source": [
    "Мы уже выяснили, что можем совершить ошибку при проверке гипотезы, поэтому должны быть внимательны при оценке результатов проведения эксперимента. Как же принять решение о наличии статистически значимой разницы?"
   ]
  },
  {
   "cell_type": "markdown",
   "metadata": {},
   "source": [
    "Граница между принятием и не принятием нулевой гипотезы базируется на понятии уровня значимости."
   ]
  },
  {
   "cell_type": "markdown",
   "metadata": {},
   "source": [
    "**Уровень значимости** - вероятность ошибочного отклонения нулевой гипотезы или иными словами, вероятность совершения ошибки первого рода. Конечно, мы берем не саму вероятность, а задаем фиксированное число, которую наша наша вероятность не должна превышать.\n",
    "Всем известные значения уровня значимости, равные 0.05,0.01 и 0.001 - это стандартные уровни статистической значимости, используемые аналитиками при проверке гипотез.\n",
    "Иначе говоря, уровень значимости – это наименьшее значение вероятности отказа от справедливой гипотезы, для которого вычисленная проверочная статистика ведет к отказу от нулевой гипотезы. "
   ]
  },
  {
   "cell_type": "markdown",
   "metadata": {},
   "source": [
    "Например, мы проверяем гипотезу о влиянии явного отображения скидки на конверсию в заказ и задаем уровень значимости, равный 0.05, то мы указываем, что вероятность совершения ошибки первого рода, то есть обнаружения значимого влияния отображения скидки на конверсию в заказ,хотя на самом деле ее нет, не должна превышать 0.05. "
   ]
  },
  {
   "cell_type": "markdown",
   "metadata": {},
   "source": [
    "**Мы разобрались с тем,что же такое уровень значимости, но что же такое p-value? тоже самое?**"
   ]
  },
  {
   "cell_type": "markdown",
   "metadata": {},
   "source": [
    "![h](https://i.pinimg.com/originals/ce/99/bc/ce99bc1d95ca30f1b9f0da2f5a6698ec.png)"
   ]
  },
  {
   "cell_type": "markdown",
   "metadata": {},
   "source": [
    "## 4.2 Критическая область"
   ]
  },
  {
   "cell_type": "markdown",
   "metadata": {},
   "source": [
    "Начнем с введения такого определения как **критическая область** - область значений статистики критерия, при которых отвергается H0. А критические значения - это граница критической области. Проще говоря, критическая область и граница определяют с какого момента мы будем отвергать нулевую гипотезу.Например, область, где критическое значение превышено с вероятностью α если нулевая гипотеза верна. Нулевая гипотеза отклоняется, если тестовая статистика лежит в этой области, которая часто упоминается как область (ы) отклонения."
   ]
  },
  {
   "cell_type": "markdown",
   "metadata": {},
   "source": [
    "Критическая область может быть:\n",
    "* правосторонней;\n",
    "* левосторонней;\n",
    "* двусторонней"
   ]
  },
  {
   "cell_type": "markdown",
   "metadata": {},
   "source": [
    "Представим, что мы хотим проверить гипотезу о различии среднего чека за определенный период в двух группах клиентов, первую группу мы не трогали, а вторую донимали пушами (график ниже). То, как мы сформулируем свою альтернативную гипотезу, будет определять с какой критической областью мы имеем дело."
   ]
  },
  {
   "cell_type": "code",
   "execution_count": 2,
   "metadata": {},
   "outputs": [],
   "source": [
    "ex_1 = np.random.normal(1000,100,10000)\n",
    "ex_2 = np.random.normal(900,70,10000)"
   ]
  },
  {
   "cell_type": "code",
   "execution_count": 3,
   "metadata": {},
   "outputs": [
    {
     "name": "stderr",
     "output_type": "stream",
     "text": [
      "/usr/local/lib/python3.7/site-packages/seaborn/distributions.py:2557: FutureWarning: `distplot` is a deprecated function and will be removed in a future version. Please adapt your code to use either `displot` (a figure-level function with similar flexibility) or `histplot` (an axes-level function for histograms).\n",
      "  warnings.warn(msg, FutureWarning)\n"
     ]
    },
    {
     "data": {
      "text/plain": [
       "Text(0.5, 1.0, 'test')"
      ]
     },
     "execution_count": 3,
     "metadata": {},
     "output_type": "execute_result"
    },
    {
     "data": {
      "image/png": "[encoded data removed]",
      "text/plain": [
       "<Figure size 864x360 with 2 Axes>"
      ]
     },
     "metadata": {
      "needs_background": "light"
     },
     "output_type": "display_data"
    }
   ],
   "source": [
    "f= plt.figure(figsize=(12,5))\n",
    "\n",
    "ax=f.add_subplot(121)\n",
    "sns.distplot(ex_2,color = 'pink',hist = True, kde = False,ax = ax)\n",
    "ax.set_title('control')\n",
    "\n",
    "ax=f.add_subplot(122)\n",
    "sns.distplot(ex_1,color = 'blue',hist = True, kde = False,ax=ax)\n",
    "ax.set_title('test')"
   ]
  },
  {
   "cell_type": "markdown",
   "metadata": {},
   "source": [
    "### 4.2.1 Двусторонняя критическая область"
   ]
  },
  {
   "cell_type": "markdown",
   "metadata": {},
   "source": [
    "Первый вариант, который применяется чаще всего, это сформулировать гипотезы следующим образом:\n",
    "* H0 = Средней чек тестовой группы равен среднему чекy контрольной группы\n",
    "* H1 = Средний чек тествой группы не равен среднему чеку контрольной группы\n",
    "* **Таким образом, мы проверяем лишь наличие разницы, не утверждая что какой-то вариант имеет более высокий средний чек. То мы опровергнем нулевую гипотезу в двух случаях: средний чек тестовой группы выше чем средний чек контрольный группы или средний чек тестовой группы меньше чем средний чек контрольной группы**"
   ]
  },
  {
   "cell_type": "markdown",
   "metadata": {},
   "source": [
    "Так как мы работаем со средним, логично что мы можем рассмотреть разность наших средних значений, которая в данном случае будет выступать в качестве **статистики критерия** -некоторой функция от исходных данных, по значению которой проверяется нулевая гипотеза. "
   ]
  },
  {
   "cell_type": "markdown",
   "metadata": {},
   "source": [
    "Давайте для академического примера используем свой критерий - просто разницу чеков)"
   ]
  },
  {
   "cell_type": "code",
   "execution_count": 4,
   "metadata": {},
   "outputs": [],
   "source": [
    "mu = np.mean(ex_1 - ex_2)"
   ]
  },
  {
   "cell_type": "code",
   "execution_count": 5,
   "metadata": {},
   "outputs": [
    {
     "data": {
      "text/plain": [
       "100.70079419596757"
      ]
     },
     "execution_count": 5,
     "metadata": {},
     "output_type": "execute_result"
    }
   ],
   "source": [
    "mu"
   ]
  },
  {
   "cell_type": "markdown",
   "metadata": {},
   "source": [
    "Как и любая величина, статистика критерия каким-либо образом распределяется"
   ]
  },
  {
   "cell_type": "code",
   "execution_count": 6,
   "metadata": {},
   "outputs": [],
   "source": [
    "diff = ex_1 - ex_2"
   ]
  },
  {
   "cell_type": "code",
   "execution_count": 7,
   "metadata": {},
   "outputs": [
    {
     "data": {
      "text/plain": [
       "<AxesSubplot:>"
      ]
     },
     "execution_count": 7,
     "metadata": {},
     "output_type": "execute_result"
    },
    {
     "data": {
      "image/png": "[encoded data removed]",
      "text/plain": [
       "<Figure size 432x288 with 1 Axes>"
      ]
     },
     "metadata": {
      "needs_background": "light"
     },
     "output_type": "display_data"
    }
   ],
   "source": [
    "sns.distplot(diff,color = 'purple',hist = True, kde = False)"
   ]
  },
  {
   "cell_type": "markdown",
   "metadata": {},
   "source": [
    "Так вот в нашем случае, критической областью будут значения разности между средними при которых мы отклоняем нулевую гипотезу, то есть значения, при которых средние наших выборок уже не равны."
   ]
  },
  {
   "cell_type": "markdown",
   "metadata": {},
   "source": [
    "А так как мы допускаем, что среднее значение может быть больше или меньше в любой из выборок, то логично критические области будут присутствовать с обеих сторон распределения разностей средних. Схематично критические области можем обозначит как ра рисунке ниже."
   ]
  },
  {
   "cell_type": "markdown",
   "metadata": {},
   "source": [
    "![both](https://i.pinimg.com/originals/33/46/f8/3346f8ce57ced566cd4e0d6c34dd1312.png)"
   ]
  },
  {
   "cell_type": "markdown",
   "metadata": {},
   "source": [
    "Мы начнем отклонять нулевую гипотезу как только значение разности приблизится к границе критической области с обеих сторон (первому значению,которое приведет к неравенству средних значений)."
   ]
  },
  {
   "cell_type": "markdown",
   "metadata": {},
   "source": [
    "### 4.2.2  Правосторонняя критическая область"
   ]
  },
  {
   "cell_type": "markdown",
   "metadata": {},
   "source": [
    "Если мы имеем дело с правосторонней альтернативной гипотизой, и как из этого следует, правосторонней критической областью, то нулевая и альтернативная гипотезы будут звучать следующим образом:\n",
    "* H0 - нет значимой разницы между значениями средних чеков в группах;\n",
    "* H1 - средний чек в тестовой группе больше чем в контрольной группе"
   ]
  },
  {
   "cell_type": "markdown",
   "metadata": {},
   "source": [
    "**То есть нас волнует не сам факт наличия различия, а конкретное различие - более высокое значение среднего чека в тестовой группе**"
   ]
  },
  {
   "cell_type": "markdown",
   "metadata": {},
   "source": [
    "Распределение разности, что логично, будет иметь тот же вид, однако теперь нас будет интересовать только правый хвост нашего распределения разности средних, так как нас интересует больше ли значение среднего в тестовой группе."
   ]
  },
  {
   "cell_type": "markdown",
   "metadata": {},
   "source": [
    "![right](https://i.pinimg.com/originals/ac/84/07/ac840782a22e1da89083afd284e0686e.png)"
   ]
  },
  {
   "cell_type": "markdown",
   "metadata": {},
   "source": [
    "### 4.2.3 Левосторонняя критическая область"
   ]
  },
  {
   "cell_type": "markdown",
   "metadata": {},
   "source": [
    "По аналогии,если мы имеем дело с левосторонней критической областью, то нулевая и альтернативная гипотезы будут звучать следующим образом:\n",
    "\n",
    "* H0 - нет значимой разницы между значениями средних чеков в группах;\n",
    "* H1 - средний чек в тестовой группе меньше чем в контрольной группе\n",
    "* **В данном случае, нас волнует различие, когда средний чек в тестовой группе оказался ниже,чем в контрольной**"
   ]
  },
  {
   "cell_type": "markdown",
   "metadata": {},
   "source": [
    "![left](https://i.pinimg.com/originals/ef/49/f4/ef49f4916a0ea97cb351ff17fefc191e.png)"
   ]
  },
  {
   "cell_type": "markdown",
   "metadata": {},
   "source": [
    "### 4.2.4 И как это связано с p-value?"
   ]
  },
  {
   "cell_type": "markdown",
   "metadata": {},
   "source": [
    "Давайте вспомним наши распределения и ответим себе на несколько вопросов"
   ]
  },
  {
   "cell_type": "code",
   "execution_count": 8,
   "metadata": {},
   "outputs": [
    {
     "data": {
      "text/plain": [
       "Text(0.5, 1.0, 'test')"
      ]
     },
     "execution_count": 8,
     "metadata": {},
     "output_type": "execute_result"
    },
    {
     "data": {
      "image/png": "[encoded data removed]",
      "text/plain": [
       "<Figure size 864x360 with 2 Axes>"
      ]
     },
     "metadata": {
      "needs_background": "light"
     },
     "output_type": "display_data"
    }
   ],
   "source": [
    "f= plt.figure(figsize=(12,5))\n",
    "\n",
    "ax=f.add_subplot(121)\n",
    "sns.distplot(ex_2,color = 'pink',hist = True, kde = False,ax = ax)\n",
    "ax.set_title('control')\n",
    "\n",
    "ax=f.add_subplot(122)\n",
    "sns.distplot(ex_1,color = 'blue',hist = True, kde = False,ax=ax)\n",
    "ax.set_title('test')"
   ]
  },
  {
   "cell_type": "markdown",
   "metadata": {},
   "source": [
    "Как вы думаете, какое значение суммы оплаты встречается чаще всего в группах? а какое или какие реже всего?"
   ]
  },
  {
   "cell_type": "markdown",
   "metadata": {},
   "source": [
    "Несложно заметить, что значения, равные среднему значению в группах будут встречаться чаще всего (что в целом логично, учитывая что у нас еще и распределение нормальное), а значения в хвостах - реже всего. Соответвенно, когда мы получаем разность наших значений (то что делали выше для определения критических областей), то ситуация будет похожа, мы получим много одинаковых или близких друг к другу разностей и редко встречающиеся разности значений, которые находятся в хвостах."
   ]
  },
  {
   "cell_type": "code",
   "execution_count": 9,
   "metadata": {},
   "outputs": [
    {
     "data": {
      "text/plain": [
       "<AxesSubplot:>"
      ]
     },
     "execution_count": 9,
     "metadata": {},
     "output_type": "execute_result"
    },
    {
     "data": {
      "image/png": "[encoded data removed]",
      "text/plain": [
       "<Figure size 432x288 with 1 Axes>"
      ]
     },
     "metadata": {
      "needs_background": "light"
     },
     "output_type": "display_data"
    }
   ],
   "source": [
    "sns.distplot(diff,color = 'purple',hist = True, kde = False)"
   ]
  },
  {
   "cell_type": "markdown",
   "metadata": {},
   "source": [
    "Таким образом, несложно определить, что у каждого значения в исходных выборках, есть вероятность, с которой мы можем его встретить, а также и у распределения статисики нашего критерия также есть вероятность возникновения разных значений. **И по мере того, как наша разность средних удаляется от истинной разности средних - падает и частота вречаний таких значений и соответственно вероятность появления такой разности и значений среднего, которые к такой разности могут привести**"
   ]
  },
  {
   "cell_type": "markdown",
   "metadata": {},
   "source": [
    "Это все очень логично, а теперь вспомним несколько знакомых нам определений из теории вероятностей, которые это подтверждают и помогают нам в расчете p- value)"
   ]
  },
  {
   "cell_type": "markdown",
   "metadata": {},
   "source": [
    "#### 4.2.4.1 Кyмулятивная функция распределения (CDF) и плотность вероятности (PDF)"
   ]
  },
  {
   "cell_type": "markdown",
   "metadata": {},
   "source": [
    "**Функция плотности вероятности (Probability Density Function, PDF)** . Эта функция показывает распределение целевых значений. Для количественных целевых значений она позволяет определять вероятность того, что они находятся в данной области. "
   ]
  },
  {
   "cell_type": "code",
   "execution_count": 10,
   "metadata": {},
   "outputs": [
    {
     "data": {
      "text/plain": [
       "<AxesSubplot:ylabel='Density'>"
      ]
     },
     "execution_count": 10,
     "metadata": {},
     "output_type": "execute_result"
    },
    {
     "data": {
      "image/png": "[encoded data removed]",
      "text/plain": [
       "<Figure size 432x288 with 1 Axes>"
      ]
     },
     "metadata": {
      "needs_background": "light"
     },
     "output_type": "display_data"
    }
   ],
   "source": [
    "sns.distplot(diff)"
   ]
  },
  {
   "cell_type": "markdown",
   "metadata": {},
   "source": [
    "**Кумулятивная функция распределения (CDF)** дает интегральную картину распределения вероятности. Она рассматривает функцию вероятностной меры и отвечает на вопрос: «Какова вероятность того, что результат окажется меньше или равен такому-то?», то есть  является вероятностью того, что X примет значение , меньшее или равное х."
   ]
  },
  {
   "cell_type": "markdown",
   "metadata": {},
   "source": [
    "**Кумулятивная функция распределения показывает вероятность того, что целевое значение меньше указанного значения либо равно ему**"
   ]
  },
  {
   "cell_type": "code",
   "execution_count": 11,
   "metadata": {},
   "outputs": [
    {
     "name": "stderr",
     "output_type": "stream",
     "text": [
      "/usr/local/lib/python3.7/site-packages/seaborn/distributions.py:2557: FutureWarning: `distplot` is a deprecated function and will be removed in a future version. Please adapt your code to use either `displot` (a figure-level function with similar flexibility) or `histplot` (an axes-level function for histograms).\n",
      "  warnings.warn(msg, FutureWarning)\n"
     ]
    },
    {
     "data": {
      "text/plain": [
       "<AxesSubplot:ylabel='Density'>"
      ]
     },
     "execution_count": 11,
     "metadata": {},
     "output_type": "execute_result"
    },
    {
     "data": {
      "image/png": "[encoded data removed]",
      "text/plain": [
       "<Figure size 432x288 with 1 Axes>"
      ]
     },
     "metadata": {
      "needs_background": "light"
     },
     "output_type": "display_data"
    }
   ],
   "source": [
    "kwargs = {'cumulative': True}\n",
    "sns.distplot(diff, hist = True,hist_kws=kwargs, kde_kws=kwargs, color = 'orange')"
   ]
  },
  {
   "cell_type": "markdown",
   "metadata": {},
   "source": [
    "А теперь соберем вместе наши знания об уровне значимости, критической области и вот этом всем!\n",
    "Разница наших средних распределена нормально, значит давайте подумаем,какова вероятность что любое значение из выборки будет меньше или равно нашему среднему значению? Конечно же 0.5. "
   ]
  },
  {
   "cell_type": "code",
   "execution_count": 12,
   "metadata": {},
   "outputs": [
    {
     "data": {
      "text/plain": [
       "0.5"
      ]
     },
     "execution_count": 12,
     "metadata": {},
     "output_type": "execute_result"
    }
   ],
   "source": [
    "stats.norm.cdf(np.mean(diff),np.mean(diff),np.std(diff))"
   ]
  },
  {
   "cell_type": "code",
   "execution_count": 13,
   "metadata": {},
   "outputs": [
    {
     "data": {
      "text/plain": [
       "0.9998251768754346"
      ]
     },
     "execution_count": 13,
     "metadata": {},
     "output_type": "execute_result"
    }
   ],
   "source": [
    "stats.norm.cdf(max(diff),np.mean(diff),np.std(diff))"
   ]
  },
  {
   "cell_type": "code",
   "execution_count": 14,
   "metadata": {},
   "outputs": [
    {
     "data": {
      "text/plain": [
       "0.7941845205745763"
      ]
     },
     "execution_count": 14,
     "metadata": {},
     "output_type": "execute_result"
    }
   ],
   "source": [
    "stats.norm.cdf(200,np.mean(diff),np.std(diff))"
   ]
  },
  {
   "cell_type": "markdown",
   "metadata": {},
   "source": [
    "На самом деле, давайте рассмотрим это с точки зрения проверки гипотезы. Мы проверяем, что наша разность средних имеет значение меньше 400.\n",
    "в таком случае:\n",
    "* нулевая гипотеза говорит нам - разность среднего значимо не различается со значением 400\n",
    "* альтернативная - разность средних значимо меньше чем 400"
   ]
  },
  {
   "cell_type": "markdown",
   "metadata": {},
   "source": [
    "Зададим уровень значимости - 0.05,например. То есть мы отвергнем нулевую гипотезу и будем считать что разность средних меньше 400, если получим значение p - value < 0.05. А что это значит? Вспомним, что p -value - вероятность ошибки первого рода, то есть в нашем случае это вероятность посчитать, что разница средних больше или равна 400 при условии, что это не так.\n",
    "\n",
    "Мы узнали что кумулятивная функция распределения позволяет нам найти вероятность того, что значение МЕНЬШЕ ИЛИ РАВНО определенному значению в распределении, значит вот так:"
   ]
  },
  {
   "cell_type": "code",
   "execution_count": 15,
   "metadata": {},
   "outputs": [
    {
     "data": {
      "text/plain": [
       "0.9933320194472118"
      ]
     },
     "execution_count": 15,
     "metadata": {},
     "output_type": "execute_result"
    }
   ],
   "source": [
    "stats.norm.cdf(400,np.mean(diff),np.std(diff))"
   ]
  },
  {
   "cell_type": "markdown",
   "metadata": {},
   "source": [
    "Мы получили вероятность того, что значения в нашем распределении разности средних меньше или равны 400. Если посмотрим на распределение, то поймем почему, все наши значения меньше чем 400, 400 - это максимум (ну или близко к нему)."
   ]
  },
  {
   "cell_type": "markdown",
   "metadata": {},
   "source": [
    "Теперь подумаем, как мы можем найти вероятность того, что разность средних действительно равна или больше 400? Очень просто, 1 - вероятность того, что значение меньше 400"
   ]
  },
  {
   "cell_type": "code",
   "execution_count": 16,
   "metadata": {},
   "outputs": [
    {
     "name": "stdout",
     "output_type": "stream",
     "text": [
      "Не можем принять нулевую гипотезу о том, что разность средних значимо не отличается от заданного значения \n",
      "p-value =  0.006667980552788166\n"
     ]
    }
   ],
   "source": [
    "p_val = 1 - stats.norm.cdf(400,np.mean(diff),np.std(diff))\n",
    "if p_val > 0.05:\n",
    "    print('Не можем отвергнуть нулевую гипотезу о том, что разность средних значимо не отличается от заданного значения','\\np-value = ',p_val)\n",
    "else:\n",
    "     print('Не можем принять нулевую гипотезу о том, что разность средних значимо не отличается от заданного значения','\\np-value = ',p_val)\n"
   ]
  },
  {
   "cell_type": "markdown",
   "metadata": {},
   "source": [
    "**Вопросы** \n",
    "* 1) а если бы проверяли такую гипотезу относительно реального среднего, что бы было? \n",
    "* 2) Проверьте правостороннюю гипотезу (то есть что разница наших средних больше какого-то значения)"
   ]
  },
  {
   "cell_type": "markdown",
   "metadata": {},
   "source": [
    "Таким образом, каждый раз, когда мы проверяем какую-либо гипотезу, мы работаем с критическим областями распределения статистики критерия (в нашем случае это была разность средних) и задаем вероятность ошибки первого рода. Например в нашем случае,если бы мы задали значение очень близкое к реальной разности среднего, то могли бы получить справедливость нулевой гипотезы о том, что значение значимо не отличается от реальной разности среднего. Насколько близкое должно быть значение определяет как раз таки наш уровень значимости. То есть мы допускаем определенную вероятность совершения ошибки, так как значение среднего все равно будет довольно таки близко к реальному."
   ]
  },
  {
   "cell_type": "markdown",
   "metadata": {},
   "source": [
    "# 5  Статистические критерии"
   ]
  },
  {
   "cell_type": "markdown",
   "metadata": {},
   "source": [
    "**Статистический критерий** — строгое математическое правило, по которому принимается или отвергается та или иная статистическая гипотеза с известным уровнем значимости. Построение критерия представляет собой выбор подходящей функции от результатов наблюдений (ряда эмпирически полученных значений признака), которая служит для выявления меры расхождения между эмпирическими значениями и гипотетическими."
   ]
  },
  {
   "cell_type": "markdown",
   "metadata": {},
   "source": [
    "![cr](https://i.pinimg.com/originals/ff/61/6d/ff616dc22fe8e2418be1fd7a175b2461.png)"
   ]
  },
  {
   "cell_type": "markdown",
   "metadata": {},
   "source": [
    "С помощью статистического критерия мы рассчитываем, так называемую статистику критерия, в рассматриваемом нами долго примере про средние чеки групп мы решили взять разность средних, однако мы не проверяли гипотез при помощи каких-либо критериев. У каждого критерия есть свой способ расчета статистики критерия, с которой мы в последствии работаем."
   ]
  },
  {
   "cell_type": "markdown",
   "metadata": {},
   "source": [
    "Выбор статистического критерия, как всем известно, в первую очередь зависит от распределения и вида данных, затем от зависимости групп и их количества."
   ]
  },
  {
   "cell_type": "markdown",
   "metadata": {},
   "source": [
    "![choose](https://lit-review.ru/wp-content/uploads/2018/04/vibor_stat_kriteria-1024x774.png)"
   ]
  },
  {
   "cell_type": "markdown",
   "metadata": {},
   "source": [
    "Все критерии различий условно подразделены на две группы: параметрические и непараметрические критерии.\n",
    "\n",
    "Критерий различия называют параметрическим, если он основан на конкретном типе распределения генеральной совокупности (как правило, нормальном) или использует параметры этой совокупности (средние, дисперсии и т.д.).\n",
    "\n",
    "Критерий различия называют непараметрическим, если он не базируется на предположении о типе распределения генеральной совокупности и не использует параметры этой совокупности. Поэтому для непараметрических критериев предлагается также использовать такой термин как «критерий, свободный от распределения».\n",
    "\n",
    "При нормальном распределении генеральной совокупности параметрические критерии обладают большей мощностью по сравнению с непараметрическими. Иными словами, они спо­собны с большей достоверностью отвергать нулевую гипотезу, если последняя неверна. По этой причине в тех случаях, когда выборки взяты из нормально распределенных генеральных со­вокупностей, следует отдавать предпочтение параметрическим критериям."
   ]
  },
  {
   "cell_type": "markdown",
   "metadata": {},
   "source": [
    "# 6 Этапы проверки статистической гипотезы\n",
    "* Формулирование нулевой и альтернативной гипотезы;\n",
    "* Выбор статистического критерия\n",
    "* Определение уровня значимости;\n",
    "* Расчет статистики критерия и/или p - value;\n",
    "* Интепретация результатов"
   ]
  },
  {
   "cell_type": "markdown",
   "metadata": {},
   "source": [
    "# 7 Проверка гипотезы с помощью t-критерия Стьюдента"
   ]
  },
  {
   "cell_type": "markdown",
   "metadata": {},
   "source": [
    "## 7.1 t-критерий Стьюдента для несвязных выборок"
   ]
  },
  {
   "cell_type": "markdown",
   "metadata": {},
   "source": [
    "**В общем виде критерий Стьюдента равняется отношению разности выборочных средних к стандартной ошибке разности средних**"
   ]
  },
  {
   "cell_type": "markdown",
   "metadata": {},
   "source": [
    "![st](https://i.pinimg.com/originals/38/39/58/383958ca7ad8b647440bf3921ac2b6ad.png)"
   ]
  },
  {
   "cell_type": "markdown",
   "metadata": {},
   "source": [
    "*Let's practice!*"
   ]
  },
  {
   "cell_type": "markdown",
   "metadata": {},
   "source": [
    "Мы работаем в агрегаторе такси (да,да,опять). И провели эксперимент в ходе которого для одной группы пользователей мы выводили доступные для применения промокоды, а для другой нет. В качестве метрики мы выбрали среднюю конверсию в заказ. Данные сгенерированы, но близки к реальности)\n",
    "* ***Полученные данные***"
   ]
  },
  {
   "cell_type": "code",
   "execution_count": 17,
   "metadata": {},
   "outputs": [],
   "source": [
    "test = pd.read_csv('v2o_test.csv')"
   ]
  },
  {
   "cell_type": "code",
   "execution_count": 18,
   "metadata": {},
   "outputs": [
    {
     "data": {
      "text/html": [
       "<div>\n",
       "<style scoped>\n",
       "    .dataframe tbody tr th:only-of-type {\n",
       "        vertical-align: middle;\n",
       "    }\n",
       "\n",
       "    .dataframe tbody tr th {\n",
       "        vertical-align: top;\n",
       "    }\n",
       "\n",
       "    .dataframe thead th {\n",
       "        text-align: right;\n",
       "    }\n",
       "</style>\n",
       "<table border=\"1\" class=\"dataframe\">\n",
       "  <thead>\n",
       "    <tr style=\"text-align: right;\">\n",
       "      <th></th>\n",
       "      <th>Unnamed: 0</th>\n",
       "      <th>a_v20</th>\n",
       "      <th>b_v20</th>\n",
       "    </tr>\n",
       "  </thead>\n",
       "  <tbody>\n",
       "    <tr>\n",
       "      <th>0</th>\n",
       "      <td>0</td>\n",
       "      <td>0.413052</td>\n",
       "      <td>0.448365</td>\n",
       "    </tr>\n",
       "    <tr>\n",
       "      <th>1</th>\n",
       "      <td>1</td>\n",
       "      <td>0.414768</td>\n",
       "      <td>0.381886</td>\n",
       "    </tr>\n",
       "    <tr>\n",
       "      <th>2</th>\n",
       "      <td>2</td>\n",
       "      <td>0.319243</td>\n",
       "      <td>0.553435</td>\n",
       "    </tr>\n",
       "    <tr>\n",
       "      <th>3</th>\n",
       "      <td>3</td>\n",
       "      <td>0.277081</td>\n",
       "      <td>0.440907</td>\n",
       "    </tr>\n",
       "    <tr>\n",
       "      <th>4</th>\n",
       "      <td>4</td>\n",
       "      <td>0.206107</td>\n",
       "      <td>0.421434</td>\n",
       "    </tr>\n",
       "  </tbody>\n",
       "</table>\n",
       "</div>"
      ],
      "text/plain": [
       "   Unnamed: 0     a_v20     b_v20\n",
       "0           0  0.413052  0.448365\n",
       "1           1  0.414768  0.381886\n",
       "2           2  0.319243  0.553435\n",
       "3           3  0.277081  0.440907\n",
       "4           4  0.206107  0.421434"
      ]
     },
     "execution_count": 18,
     "metadata": {},
     "output_type": "execute_result"
    }
   ],
   "source": [
    "test.head()"
   ]
  },
  {
   "cell_type": "code",
   "execution_count": 19,
   "metadata": {},
   "outputs": [
    {
     "name": "stderr",
     "output_type": "stream",
     "text": [
      "/usr/local/lib/python3.7/site-packages/seaborn/distributions.py:2557: FutureWarning: `distplot` is a deprecated function and will be removed in a future version. Please adapt your code to use either `displot` (a figure-level function with similar flexibility) or `histplot` (an axes-level function for histograms).\n",
      "  warnings.warn(msg, FutureWarning)\n"
     ]
    },
    {
     "data": {
      "text/plain": [
       "Text(0.5, 1.0, 'test')"
      ]
     },
     "execution_count": 19,
     "metadata": {},
     "output_type": "execute_result"
    },
    {
     "data": {
      "image/png": "[encoded data removed]",
      "text/plain": [
       "<Figure size 864x360 with 2 Axes>"
      ]
     },
     "metadata": {
      "needs_background": "light"
     },
     "output_type": "display_data"
    }
   ],
   "source": [
    "f= plt.figure(figsize=(12,5))\n",
    "\n",
    "ax=f.add_subplot(121)\n",
    "sns.distplot(test['a_v20'],color = 'cyan',hist = True, kde = False,ax = ax)\n",
    "ax.set_title('control')\n",
    "\n",
    "ax=f.add_subplot(122)\n",
    "sns.distplot(test['b_v20'],color = 'coral',hist = True, kde = False,ax=ax)\n",
    "ax.set_title('test')"
   ]
  },
  {
   "cell_type": "markdown",
   "metadata": {},
   "source": [
    "**Проверим данные на нормальность**"
   ]
  },
  {
   "cell_type": "code",
   "execution_count": 20,
   "metadata": {},
   "outputs": [
    {
     "data": {
      "image/png": "[encoded data removed]",
      "text/plain": [
       "<Figure size 432x288 with 1 Axes>"
      ]
     },
     "metadata": {
      "needs_background": "light"
     },
     "output_type": "display_data"
    },
    {
     "data": {
      "image/png": "[encoded data removed]",
      "text/plain": [
       "<Figure size 432x288 with 1 Axes>"
      ]
     },
     "metadata": {
      "needs_background": "light"
     },
     "output_type": "display_data"
    }
   ],
   "source": [
    "stats.probplot(test['a_v20'], dist=\"norm\", plot=plt)\n",
    "plt.show()\n",
    "\n",
    "stats.probplot(test['b_v20'], dist=\"norm\", plot=plt)\n",
    "plt.show()\n"
   ]
  },
  {
   "cell_type": "code",
   "execution_count": 21,
   "metadata": {},
   "outputs": [],
   "source": [
    "groups = [test['a_v20'],test['b_v20']]"
   ]
  },
  {
   "cell_type": "code",
   "execution_count": 22,
   "metadata": {},
   "outputs": [
    {
     "name": "stdout",
     "output_type": "stream",
     "text": [
      "Normal W= 0.9996 p-value 0.8637\n",
      "Normal W= 0.9995 p-value 0.6834\n"
     ]
    }
   ],
   "source": [
    "for group in groups:\n",
    "    W_value,p_value = stats.shapiro(group)\n",
    "    if p_value > 0.01:\n",
    "        print('Normal','W=',round(W_value,4),'p-value',round(p_value,4))\n",
    "    else:\n",
    "        print('Not normal','W=',round(W_value,4),'p-value',round(p_value,4))"
   ]
  },
  {
   "cell_type": "markdown",
   "metadata": {},
   "source": [
    "**Сформулируем гипотезу**"
   ]
  },
  {
   "cell_type": "markdown",
   "metadata": {},
   "source": [
    " Чего мы ожидаем? Конечно, мы ожидаем что средняя конверсия в заказ в тестовой группе будет выше. Но! Какой исход нас волнует? На самлм деле для нас важно понять, стала ли средняя конверсия в заказ выше или ниже. Поэтому мы формулируем двустороннюю гипотезу! "
   ]
  },
  {
   "cell_type": "markdown",
   "metadata": {},
   "source": [
    "* H0 - средние конверсии в заказ в группах не имют значимых различий;\n",
    "* H1 - средние конверсии в заказ имеют значимые различия"
   ]
  },
  {
   "cell_type": "markdown",
   "metadata": {},
   "source": [
    "Что дальше? Определим уровень значимости.\n",
    "* Берем a = 0.05"
   ]
  },
  {
   "cell_type": "markdown",
   "metadata": {},
   "source": [
    "Критерий Стьюдента для расчета значения статистики критерия оперирует таким понятием как степени свободы."
   ]
  },
  {
   "cell_type": "markdown",
   "metadata": {},
   "source": [
    "***Число степений свободы*** - это число свободно варьирующихся элементов в составе выборки. То есть число элементов, через которое мы можем выразить выбранное из ряда значение, зная объем выборки и среднее.\n",
    "* Например: у нас есть ряд a = 2,4,6,8,10. Его среднее арифметическое = 6. Количество элементов = 5. Любой элемент может быть выражен через выражение: *n * a_среднее - sum(a)*.\n",
    "\n",
    "Проверим:\n",
    "выразим последний элемент,равный 10 через среднее и все остальные элементы: *6 * 5 - 2 + 4 + 6 + 8 = 30 - 20 = 10*\n",
    "\n",
    "Таким образом, количество степеней свободы  - количество чисел, которые мы имеем, чтобы выразить любой элемент через его среднее.\n",
    "По классике обозначается как ***Размер выборки - 1*** "
   ]
  },
  {
   "cell_type": "markdown",
   "metadata": {},
   "source": [
    "**Рассчитаем статистику критерия Стьюдента**"
   ]
  },
  {
   "cell_type": "markdown",
   "metadata": {},
   "source": [
    "Вычислим сами средние конверсии, раз уж мы сравниваем их"
   ]
  },
  {
   "cell_type": "code",
   "execution_count": 23,
   "metadata": {},
   "outputs": [
    {
     "name": "stdout",
     "output_type": "stream",
     "text": [
      "Средняя конверсия в заказ в контрольной группе =  0.34935236670203085\n",
      "Средняя конверсия в заказ в тестовой группе =  0.41237809369818207\n"
     ]
    }
   ],
   "source": [
    "mean_a = np.mean(test['a_v20'])\n",
    "mean_b = np.mean(test['b_v20'])\n",
    "print('Средняя конверсия в заказ в контрольной группе = ',mean_a)\n",
    "print('Средняя конверсия в заказ в тестовой группе = ',mean_b)"
   ]
  },
  {
   "cell_type": "markdown",
   "metadata": {},
   "source": [
    "Дальше нам надо вычислить их разность, разницу берем по модулю без учета знака"
   ]
  },
  {
   "cell_type": "code",
   "execution_count": 24,
   "metadata": {},
   "outputs": [
    {
     "name": "stdout",
     "output_type": "stream",
     "text": [
      "Разница выборочных средних =  -0.06302572699615122\n"
     ]
    }
   ],
   "source": [
    "mean_diff = mean_a - mean_b\n",
    "print('Разница выборочных средних = ',mean_diff)"
   ]
  },
  {
   "cell_type": "markdown",
   "metadata": {},
   "source": [
    "Дальше вычисляем стандартную ошибку разности выборочных средних. Из прошлой лекции мы знаем, что это такое и какой смысл в расчете этого значения."
   ]
  },
  {
   "cell_type": "code",
   "execution_count": 25,
   "metadata": {},
   "outputs": [
    {
     "name": "stdout",
     "output_type": "stream",
     "text": [
      "Стандартная ошибка разности средних =  0.0024259084942340387\n"
     ]
    }
   ],
   "source": [
    "#количество элементов в выборках\n",
    "n1 = len(test['a_v20'])\n",
    "n2 = len(test['b_v20'])\n",
    "\n",
    "#дисперсии\n",
    "var_a = np.var(test['a_v20'],ddof = 1)\n",
    "var_b = np.var(test['b_v20'],ddof = 1)\n",
    "\n",
    "#стандартные отклонения\n",
    "sd_a = np.sqrt(var_a)\n",
    "sd_b = np.sqrt(var_b)\n",
    "\n",
    "#стандартная ошибка разности средних\n",
    "sem = np.sqrt(sd_a**2/n1 + sd_b**2/n2)\n",
    "\n",
    "print('Стандартная ошибка разности средних = ',sem)"
   ]
  },
  {
   "cell_type": "markdown",
   "metadata": {},
   "source": [
    "Получим статистику критерия"
   ]
  },
  {
   "cell_type": "code",
   "execution_count": 26,
   "metadata": {},
   "outputs": [
    {
     "name": "stdout",
     "output_type": "stream",
     "text": [
      "t-критерий = -25.98025735346258\n"
     ]
    }
   ],
   "source": [
    "t = mean_diff/sem\n",
    "print('t-критерий =',t)"
   ]
  },
  {
   "cell_type": "markdown",
   "metadata": {},
   "source": [
    "Получим p-value"
   ]
  },
  {
   "cell_type": "code",
   "execution_count": 27,
   "metadata": {},
   "outputs": [
    {
     "name": "stdout",
     "output_type": "stream",
     "text": [
      "Есть статистически значимая разница \n",
      "t - критерий =  -25.98025735346258 \n",
      "p-value = 4.142263644207472e-141\n"
     ]
    }
   ],
   "source": [
    "#степени свободы\n",
    "df = (n1 + n2) - 2\n",
    "\n",
    "#p - value\n",
    "p = stats.t.cdf(t, df) * 2\n",
    "\n",
    "if p > 0.05:\n",
    "    print('Нет статистически значимой разницы','\\nt - критерий = ',t,'\\np-value =',p)\n",
    "else:\n",
    "    print('Есть статистически значимая разница','\\nt - критерий = ',t,'\\np-value =',p)"
   ]
  },
  {
   "cell_type": "markdown",
   "metadata": {},
   "source": [
    "Тоже самое с помощью scipy)"
   ]
  },
  {
   "cell_type": "code",
   "execution_count": 28,
   "metadata": {},
   "outputs": [
    {
     "name": "stdout",
     "output_type": "stream",
     "text": [
      "Есть статистически значимая разница \n",
      "t - критерий =  -25.98025735346258 \n",
      "p-value = 4.142263644207472e-141\n"
     ]
    }
   ],
   "source": [
    "t2, p2 = stats.ttest_ind(test['a_v20'],test['b_v20'])\n",
    "\n",
    "\n",
    "if p2 > 0.05:\n",
    "    print('Нет статистически значимой разницы','\\nt - критерий = ',t2,'\\np-value =',p2)\n",
    "else:\n",
    "    print('Есть статистически значимая разница','\\nt - критерий = ',t2,'\\np-value =',p2)"
   ]
  },
  {
   "cell_type": "markdown",
   "metadata": {},
   "source": [
    "## 7.2  Непараметрический критерий Манна - Уитни"
   ]
  },
  {
   "cell_type": "markdown",
   "metadata": {},
   "source": [
    "Мы увидели, что отображение промокодов дало значимый результат на конверсию в заказ и решили провести тест и узнать как же это повлияло на оплаты клиентов)"
   ]
  },
  {
   "cell_type": "code",
   "execution_count": 29,
   "metadata": {},
   "outputs": [],
   "source": [
    "df = pd.read_csv('test_avg_money.csv')"
   ]
  },
  {
   "cell_type": "code",
   "execution_count": 30,
   "metadata": {},
   "outputs": [
    {
     "data": {
      "text/html": [
       "<div>\n",
       "<style scoped>\n",
       "    .dataframe tbody tr th:only-of-type {\n",
       "        vertical-align: middle;\n",
       "    }\n",
       "\n",
       "    .dataframe tbody tr th {\n",
       "        vertical-align: top;\n",
       "    }\n",
       "\n",
       "    .dataframe thead th {\n",
       "        text-align: right;\n",
       "    }\n",
       "</style>\n",
       "<table border=\"1\" class=\"dataframe\">\n",
       "  <thead>\n",
       "    <tr style=\"text-align: right;\">\n",
       "      <th></th>\n",
       "      <th>a</th>\n",
       "      <th>b</th>\n",
       "    </tr>\n",
       "  </thead>\n",
       "  <tbody>\n",
       "    <tr>\n",
       "      <th>0</th>\n",
       "      <td>414</td>\n",
       "      <td>510</td>\n",
       "    </tr>\n",
       "    <tr>\n",
       "      <th>1</th>\n",
       "      <td>122</td>\n",
       "      <td>592</td>\n",
       "    </tr>\n",
       "    <tr>\n",
       "      <th>2</th>\n",
       "      <td>722</td>\n",
       "      <td>293</td>\n",
       "    </tr>\n",
       "    <tr>\n",
       "      <th>3</th>\n",
       "      <td>193</td>\n",
       "      <td>561</td>\n",
       "    </tr>\n",
       "    <tr>\n",
       "      <th>4</th>\n",
       "      <td>636</td>\n",
       "      <td>317</td>\n",
       "    </tr>\n",
       "  </tbody>\n",
       "</table>\n",
       "</div>"
      ],
      "text/plain": [
       "     a    b\n",
       "0  414  510\n",
       "1  122  592\n",
       "2  722  293\n",
       "3  193  561\n",
       "4  636  317"
      ]
     },
     "execution_count": 30,
     "metadata": {},
     "output_type": "execute_result"
    }
   ],
   "source": [
    "df.head()"
   ]
  },
  {
   "cell_type": "code",
   "execution_count": 31,
   "metadata": {},
   "outputs": [
    {
     "name": "stderr",
     "output_type": "stream",
     "text": [
      "/usr/local/lib/python3.7/site-packages/seaborn/distributions.py:2557: FutureWarning: `distplot` is a deprecated function and will be removed in a future version. Please adapt your code to use either `displot` (a figure-level function with similar flexibility) or `histplot` (an axes-level function for histograms).\n",
      "  warnings.warn(msg, FutureWarning)\n",
      "/usr/local/lib/python3.7/site-packages/seaborn/distributions.py:2557: FutureWarning: `distplot` is a deprecated function and will be removed in a future version. Please adapt your code to use either `displot` (a figure-level function with similar flexibility) or `histplot` (an axes-level function for histograms).\n",
      "  warnings.warn(msg, FutureWarning)\n"
     ]
    },
    {
     "data": {
      "text/plain": [
       "Text(0.5, 1.0, 'test')"
      ]
     },
     "execution_count": 31,
     "metadata": {},
     "output_type": "execute_result"
    },
    {
     "data": {
      "image/png": "[encoded data removed]",
      "text/plain": [
       "<Figure size 864x360 with 2 Axes>"
      ]
     },
     "metadata": {
      "needs_background": "light"
     },
     "output_type": "display_data"
    }
   ],
   "source": [
    "f= plt.figure(figsize=(12,5))\n",
    "\n",
    "ax=f.add_subplot(121)\n",
    "sns.distplot(df['a'],color = 'cyan',hist = True,ax = ax)\n",
    "ax.set_title('control')\n",
    "\n",
    "ax=f.add_subplot(122)\n",
    "sns.distplot(df['b'],color = 'coral',hist = True,ax=ax)\n",
    "ax.set_title('test')"
   ]
  },
  {
   "cell_type": "code",
   "execution_count": 32,
   "metadata": {},
   "outputs": [
    {
     "data": {
      "image/png": "[encoded data removed]",
      "text/plain": [
       "<Figure size 432x288 with 1 Axes>"
      ]
     },
     "metadata": {
      "needs_background": "light"
     },
     "output_type": "display_data"
    },
    {
     "data": {
      "image/png": "[encoded data removed]",
      "text/plain": [
       "<Figure size 432x288 with 1 Axes>"
      ]
     },
     "metadata": {
      "needs_background": "light"
     },
     "output_type": "display_data"
    }
   ],
   "source": [
    "stats.probplot(df['a'], dist=\"norm\", plot=plt)\n",
    "plt.show()\n",
    "\n",
    "stats.probplot(df['b'], dist=\"norm\", plot=plt)\n",
    "plt.show()"
   ]
  },
  {
   "cell_type": "code",
   "execution_count": 33,
   "metadata": {},
   "outputs": [],
   "source": [
    "groups = [df['a'],df['b']]"
   ]
  },
  {
   "cell_type": "code",
   "execution_count": 34,
   "metadata": {},
   "outputs": [
    {
     "name": "stdout",
     "output_type": "stream",
     "text": [
      "Not normal W= 0.9457 p-value 0.0\n",
      "Not normal W= 0.9651 p-value 0.0001\n"
     ]
    }
   ],
   "source": [
    "for group in groups:\n",
    "    W_value,p_value = stats.shapiro(group)\n",
    "    if p_value > 0.01:\n",
    "        print('Normal','W=',round(W_value,4),'p-value',round(p_value,4))\n",
    "    else:\n",
    "        print('Not normal','W=',round(W_value,4),'p-value',round(p_value,4))"
   ]
  },
  {
   "cell_type": "markdown",
   "metadata": {},
   "source": [
    "Наши денежки распределены не нормально. Как мы помним с прошлой лекции, это не критично. С таким мы тоже умеем работать.\n",
    "Один из популярных методов сравнения в двух независимых группах - критерий Манна-Уитни."
   ]
  },
  {
   "cell_type": "markdown",
   "metadata": {},
   "source": [
    "**Критерий Манна-Уитни** представляет непараметрическую альтернативу t-критерия для независимых выборок. Преимущество его состоит в том, что мы отказываемся от предположения нормальности распределения и одинаковых дисперсий. Необходимо, чтобы данные были измерены как минимум в порядковой шкале. Относится к ранговым критериям."
   ]
  },
  {
   "cell_type": "markdown",
   "metadata": {},
   "source": [
    "Интерпретация теста по существу похожа на интерпретацию результатов t-критерия для независимых выборок, за исключением того, что U критерий вычисляется, как сумма индикаторов попарного сравнения элементов первой выборки с элементами второй выборки. U критерий - наиболее мощная (чувствительная) непараметрическая альтернатива t-критерия для независимых выборок; фактически, в некоторых случаях он имеет даже большую мощность, чем t-критерий."
   ]
  },
  {
   "cell_type": "markdown",
   "metadata": {},
   "source": [
    "Алгоритм расчета критерия прост и интуитивно понятен"
   ]
  },
  {
   "cell_type": "markdown",
   "metadata": {},
   "source": [
    "**Важная поправка** при больших значениях выборки распределение U-критерия быстро сходится к нормальному распределению, поэтому для интерпретации рассчитывается z-значение, если количество элементов в выборках больше 60. У нас больше)))"
   ]
  },
  {
   "cell_type": "markdown",
   "metadata": {},
   "source": [
    "***Формула для расчета U-критерия (статистики теста):***"
   ]
  },
  {
   "cell_type": "markdown",
   "metadata": {},
   "source": [
    "![u](https://i.pinimg.com/564x/7f/40/70/7f407010828abd65c1602e0472a8a096.jpg)"
   ]
  },
  {
   "cell_type": "markdown",
   "metadata": {},
   "source": [
    "Также можем рассчитать через сравнение двух U критериев для наших выборок, результат будет одинаков"
   ]
  },
  {
   "cell_type": "markdown",
   "metadata": {},
   "source": [
    "![u2](https://i.pinimg.com/564x/af/24/80/af2480cefddd060cc241b8e4cf73a9b9.jpg)"
   ]
  },
  {
   "cell_type": "markdown",
   "metadata": {},
   "source": [
    "Всюду видим упоминание рангов. И правда,чтобы рассчитать критерий Манна-Уитни нам сначала нужно получить ранги наших значений, потому что если просто сказать о сути критерия, то мы получаем суммы рангов в наших группах и затем сравниваем между собой эти суммы эти рангов. таким образом, мы и правда не привязываемся к параметрам распределения, как в случае с критерием Стьюдента.Начнем)"
   ]
  },
  {
   "cell_type": "markdown",
   "metadata": {},
   "source": [
    "***Из двух выборок получим одну,отсортируем и затем расставим ранги**. Максимальное значение в группе имеет первый ранг и так далее."
   ]
  },
  {
   "cell_type": "code",
   "execution_count": 35,
   "metadata": {},
   "outputs": [
    {
     "data": {
      "text/html": [
       "<div>\n",
       "<style scoped>\n",
       "    .dataframe tbody tr th:only-of-type {\n",
       "        vertical-align: middle;\n",
       "    }\n",
       "\n",
       "    .dataframe tbody tr th {\n",
       "        vertical-align: top;\n",
       "    }\n",
       "\n",
       "    .dataframe thead th {\n",
       "        text-align: right;\n",
       "    }\n",
       "</style>\n",
       "<table border=\"1\" class=\"dataframe\">\n",
       "  <thead>\n",
       "    <tr style=\"text-align: right;\">\n",
       "      <th></th>\n",
       "      <th>a</th>\n",
       "      <th>b</th>\n",
       "    </tr>\n",
       "  </thead>\n",
       "  <tbody>\n",
       "    <tr>\n",
       "      <th>0</th>\n",
       "      <td>414</td>\n",
       "      <td>510</td>\n",
       "    </tr>\n",
       "    <tr>\n",
       "      <th>1</th>\n",
       "      <td>122</td>\n",
       "      <td>592</td>\n",
       "    </tr>\n",
       "    <tr>\n",
       "      <th>2</th>\n",
       "      <td>722</td>\n",
       "      <td>293</td>\n",
       "    </tr>\n",
       "    <tr>\n",
       "      <th>3</th>\n",
       "      <td>193</td>\n",
       "      <td>561</td>\n",
       "    </tr>\n",
       "    <tr>\n",
       "      <th>4</th>\n",
       "      <td>636</td>\n",
       "      <td>317</td>\n",
       "    </tr>\n",
       "  </tbody>\n",
       "</table>\n",
       "</div>"
      ],
      "text/plain": [
       "     a    b\n",
       "0  414  510\n",
       "1  122  592\n",
       "2  722  293\n",
       "3  193  561\n",
       "4  636  317"
      ]
     },
     "execution_count": 35,
     "metadata": {},
     "output_type": "execute_result"
    }
   ],
   "source": [
    "df.head()"
   ]
  },
  {
   "cell_type": "code",
   "execution_count": 36,
   "metadata": {},
   "outputs": [
    {
     "data": {
      "text/plain": [
       "206"
      ]
     },
     "execution_count": 36,
     "metadata": {},
     "output_type": "execute_result"
    }
   ],
   "source": [
    "len(df)"
   ]
  },
  {
   "cell_type": "code",
   "execution_count": 37,
   "metadata": {},
   "outputs": [
    {
     "data": {
      "text/html": [
       "<div>\n",
       "<style scoped>\n",
       "    .dataframe tbody tr th:only-of-type {\n",
       "        vertical-align: middle;\n",
       "    }\n",
       "\n",
       "    .dataframe tbody tr th {\n",
       "        vertical-align: top;\n",
       "    }\n",
       "\n",
       "    .dataframe thead th {\n",
       "        text-align: right;\n",
       "    }\n",
       "</style>\n",
       "<table border=\"1\" class=\"dataframe\">\n",
       "  <thead>\n",
       "    <tr style=\"text-align: right;\">\n",
       "      <th></th>\n",
       "      <th>value</th>\n",
       "      <th>group</th>\n",
       "    </tr>\n",
       "  </thead>\n",
       "  <tbody>\n",
       "    <tr>\n",
       "      <th>0</th>\n",
       "      <td>414</td>\n",
       "      <td>a</td>\n",
       "    </tr>\n",
       "    <tr>\n",
       "      <th>0</th>\n",
       "      <td>510</td>\n",
       "      <td>b</td>\n",
       "    </tr>\n",
       "    <tr>\n",
       "      <th>1</th>\n",
       "      <td>122</td>\n",
       "      <td>a</td>\n",
       "    </tr>\n",
       "    <tr>\n",
       "      <th>1</th>\n",
       "      <td>592</td>\n",
       "      <td>b</td>\n",
       "    </tr>\n",
       "    <tr>\n",
       "      <th>2</th>\n",
       "      <td>722</td>\n",
       "      <td>a</td>\n",
       "    </tr>\n",
       "    <tr>\n",
       "      <th>...</th>\n",
       "      <td>...</td>\n",
       "      <td>...</td>\n",
       "    </tr>\n",
       "    <tr>\n",
       "      <th>203</th>\n",
       "      <td>429</td>\n",
       "      <td>b</td>\n",
       "    </tr>\n",
       "    <tr>\n",
       "      <th>204</th>\n",
       "      <td>217</td>\n",
       "      <td>a</td>\n",
       "    </tr>\n",
       "    <tr>\n",
       "      <th>204</th>\n",
       "      <td>328</td>\n",
       "      <td>b</td>\n",
       "    </tr>\n",
       "    <tr>\n",
       "      <th>205</th>\n",
       "      <td>691</td>\n",
       "      <td>a</td>\n",
       "    </tr>\n",
       "    <tr>\n",
       "      <th>205</th>\n",
       "      <td>314</td>\n",
       "      <td>b</td>\n",
       "    </tr>\n",
       "  </tbody>\n",
       "</table>\n",
       "<p>412 rows × 2 columns</p>\n",
       "</div>"
      ],
      "text/plain": [
       "     value group\n",
       "0      414     a\n",
       "0      510     b\n",
       "1      122     a\n",
       "1      592     b\n",
       "2      722     a\n",
       "..     ...   ...\n",
       "203    429     b\n",
       "204    217     a\n",
       "204    328     b\n",
       "205    691     a\n",
       "205    314     b\n",
       "\n",
       "[412 rows x 2 columns]"
      ]
     },
     "execution_count": 37,
     "metadata": {},
     "output_type": "execute_result"
    }
   ],
   "source": [
    "df1 = df.stack().reset_index(-1).iloc[:, ::-1]\n",
    "df1.columns = ['value', 'group']\n",
    "df1"
   ]
  },
  {
   "cell_type": "code",
   "execution_count": 38,
   "metadata": {},
   "outputs": [],
   "source": [
    "df1['rank'] = df1['value'].rank(ascending = False, numeric_only = True)#пояснитть"
   ]
  },
  {
   "cell_type": "code",
   "execution_count": 39,
   "metadata": {},
   "outputs": [
    {
     "data": {
      "text/html": [
       "<div>\n",
       "<style scoped>\n",
       "    .dataframe tbody tr th:only-of-type {\n",
       "        vertical-align: middle;\n",
       "    }\n",
       "\n",
       "    .dataframe tbody tr th {\n",
       "        vertical-align: top;\n",
       "    }\n",
       "\n",
       "    .dataframe thead th {\n",
       "        text-align: right;\n",
       "    }\n",
       "</style>\n",
       "<table border=\"1\" class=\"dataframe\">\n",
       "  <thead>\n",
       "    <tr style=\"text-align: right;\">\n",
       "      <th></th>\n",
       "      <th>value</th>\n",
       "      <th>group</th>\n",
       "      <th>rank</th>\n",
       "    </tr>\n",
       "  </thead>\n",
       "  <tbody>\n",
       "    <tr>\n",
       "      <th>0</th>\n",
       "      <td>414</td>\n",
       "      <td>a</td>\n",
       "      <td>206.0</td>\n",
       "    </tr>\n",
       "    <tr>\n",
       "      <th>0</th>\n",
       "      <td>510</td>\n",
       "      <td>b</td>\n",
       "      <td>154.0</td>\n",
       "    </tr>\n",
       "    <tr>\n",
       "      <th>1</th>\n",
       "      <td>122</td>\n",
       "      <td>a</td>\n",
       "      <td>383.5</td>\n",
       "    </tr>\n",
       "    <tr>\n",
       "      <th>1</th>\n",
       "      <td>592</td>\n",
       "      <td>b</td>\n",
       "      <td>100.0</td>\n",
       "    </tr>\n",
       "    <tr>\n",
       "      <th>2</th>\n",
       "      <td>722</td>\n",
       "      <td>a</td>\n",
       "      <td>24.5</td>\n",
       "    </tr>\n",
       "  </tbody>\n",
       "</table>\n",
       "</div>"
      ],
      "text/plain": [
       "   value group   rank\n",
       "0    414     a  206.0\n",
       "0    510     b  154.0\n",
       "1    122     a  383.5\n",
       "1    592     b  100.0\n",
       "2    722     a   24.5"
      ]
     },
     "execution_count": 39,
     "metadata": {},
     "output_type": "execute_result"
    }
   ],
   "source": [
    "df1.head()"
   ]
  },
  {
   "cell_type": "markdown",
   "metadata": {},
   "source": [
    "Дальше необходимо вычислить сумму рангов"
   ]
  },
  {
   "cell_type": "code",
   "execution_count": 40,
   "metadata": {},
   "outputs": [
    {
     "data": {
      "text/plain": [
       "group\n",
       "a    46434.0\n",
       "b    38644.0\n",
       "Name: rank, dtype: float64"
      ]
     },
     "execution_count": 40,
     "metadata": {},
     "output_type": "execute_result"
    }
   ],
   "source": [
    "df1.groupby('group')['rank'].sum()"
   ]
  },
  {
   "cell_type": "code",
   "execution_count": 41,
   "metadata": {},
   "outputs": [],
   "source": [
    "a = df1[df1['group'] == 'a']['value']\n",
    "b = df1[df1['group'] == 'b']['value']\n",
    "rank_a = df1[df1['group'] == 'a']['rank'].sum()\n",
    "rank_b = df1[df1['group'] == 'b']['rank'].sum()"
   ]
  },
  {
   "cell_type": "markdown",
   "metadata": {},
   "source": [
    "Ну и в в целом у нас все есть, чтобы вычислить U-критерий)"
   ]
  },
  {
   "cell_type": "markdown",
   "metadata": {},
   "source": [
    "![u](https://i.pinimg.com/564x/7f/40/70/7f407010828abd65c1602e0472a8a096.jpg)"
   ]
  },
  {
   "cell_type": "code",
   "execution_count": 42,
   "metadata": {},
   "outputs": [],
   "source": [
    "def U(a,b,rank_a,rank_b):\n",
    "    number_of_values_a = a.count()\n",
    "    number_of_values_b = b.count()\n",
    "    all_values = number_of_values_a * number_of_values_b\n",
    "    max_rank = max(rank_a,rank_b)\n",
    "    max_count = float()\n",
    "    if rank_a > rank_b:\n",
    "        max_count = number_of_values_a\n",
    "    else:\n",
    "        max_count = number_of_values_b\n",
    "    return (all_values + (max_count * (max_count + 1))/2) - max_rank"
   ]
  },
  {
   "cell_type": "code",
   "execution_count": 43,
   "metadata": {},
   "outputs": [
    {
     "name": "stdout",
     "output_type": "stream",
     "text": [
      "U-критерий = 17323.0\n"
     ]
    }
   ],
   "source": [
    "print('U-критерий =',U(a,b,rank_a,rank_b))"
   ]
  },
  {
   "cell_type": "markdown",
   "metadata": {},
   "source": [
    "Второй чуть способ суть быстрее,но даст тот же результат)"
   ]
  },
  {
   "cell_type": "markdown",
   "metadata": {},
   "source": [
    "![u2](https://i.pinimg.com/564x/af/24/80/af2480cefddd060cc241b8e4cf73a9b9.jpg)"
   ]
  },
  {
   "cell_type": "code",
   "execution_count": 44,
   "metadata": {},
   "outputs": [],
   "source": [
    "def U2 (a,b,rank_a,rank_b):\n",
    "    return min((rank_a - (a.count() * (a.count() + 1))/2),(rank_b - (b.count() * (b.count() + 1))/2))"
   ]
  },
  {
   "cell_type": "code",
   "execution_count": 45,
   "metadata": {},
   "outputs": [
    {
     "name": "stdout",
     "output_type": "stream",
     "text": [
      "U-критерий = 17323.0\n"
     ]
    }
   ],
   "source": [
    "print('U-критерий =',U2(a,b,rank_a,rank_b))"
   ]
  },
  {
   "cell_type": "markdown",
   "metadata": {},
   "source": [
    "Теперь это надо как-то интерпретировать и вывести p-value. Выше упоминали, что при размере выборки > 60, мы уже не можем посмотреть в табоицу критических значений + распределение U-критерия отлично сходится к нормальному, поэтому мы рассчитываем z-значение для нашего U-критерия и по нему получаем наш заветный p-value и результат."
   ]
  },
  {
   "cell_type": "markdown",
   "metadata": {},
   "source": [
    "***Z - значение*** - это мера относительного разброса наблюдаемого или измеренного значения, которая показывает, сколько стандартных отклонений составляет его разброс относительного среднего значения. Это безразмерный статистический показатель используемый для сравнения значений разной размерности или шкалой измерений."
   ]
  },
  {
   "cell_type": "markdown",
   "metadata": {},
   "source": [
    "<img width = '1000px' src= https://i.pinimg.com/originals/9f/b5/36/9fb536c3c368b01f17b4231c4b842951.png>"
   ]
  },
  {
   "cell_type": "code",
   "execution_count": 46,
   "metadata": {},
   "outputs": [],
   "source": [
    "def z_score(a,b):\n",
    "    m_u = (a.count()*b.count())/2 + 0.5\n",
    "    sigma_u = np.sqrt((a.count()*b.count())*(a.count()+b.count()+1)/12)\n",
    "    return (U(a,b,rank_a,rank_b) - m_u)/sigma_u"
   ]
  },
  {
   "cell_type": "code",
   "execution_count": 47,
   "metadata": {},
   "outputs": [
    {
     "name": "stdout",
     "output_type": "stream",
     "text": [
      "z-значение =  -3.2233805832262994\n"
     ]
    }
   ],
   "source": [
    "print('z-значение = ',z_score(a,b))"
   ]
  },
  {
   "cell_type": "code",
   "execution_count": 48,
   "metadata": {},
   "outputs": [
    {
     "data": {
      "text/plain": [
       "0.0013"
      ]
     },
     "execution_count": 48,
     "metadata": {},
     "output_type": "execute_result"
    }
   ],
   "source": [
    "round(stats.norm.cdf(z_score(a,b)) * 2.0,4)"
   ]
  },
  {
   "cell_type": "markdown",
   "metadata": {},
   "source": [
    "соберем вместе"
   ]
  },
  {
   "cell_type": "code",
   "execution_count": 49,
   "metadata": {},
   "outputs": [],
   "source": [
    "def MannWhitney(a,b,rank_a,rank_b):\n",
    "    U = min((rank_a - (a.count() * (a.count() + 1))/2),(rank_b - (b.count() * (b.count() + 1))/2))\n",
    "    m_u = (a.count()*b.count())/2\n",
    "    sigma_u = np.sqrt((a.count()*b.count())*(a.count()+ b.count()+1)/12)\n",
    "    z_score = (U - m_u)/sigma_u\n",
    "    p_val = stats.norm.cdf(z_score) * 2\n",
    "    if p_val > 0.05:\n",
    "        print('Нет статистически значимой разницы и оснований отвергнуть гипотезу H0','\\nU-критерий:',U,\n",
    "              '\\nz_score',z_score,'\\np-value',round(p_val,4))\n",
    "    else:\n",
    "        print('Есть статистически значимая разница, гипотеза H0 отвергается','\\nU-критерий:',U,\n",
    "              '\\nz_score',z_score,'\\np-value',round(p_val,4))\n",
    "        return"
   ]
  },
  {
   "cell_type": "code",
   "execution_count": 50,
   "metadata": {},
   "outputs": [
    {
     "name": "stdout",
     "output_type": "stream",
     "text": [
      "Есть статистически значимая разница, гипотеза H0 отвергается \n",
      "U-критерий: 17323.0 \n",
      "z_score -3.2229668519231 \n",
      "p-value 0.0013\n"
     ]
    }
   ],
   "source": [
    "MannWhitney(a,b,rank_a,rank_b)"
   ]
  },
  {
   "cell_type": "markdown",
   "metadata": {},
   "source": [
    "Тоже самое с помощью scipy))"
   ]
  },
  {
   "cell_type": "code",
   "execution_count": 51,
   "metadata": {},
   "outputs": [
    {
     "name": "stdout",
     "output_type": "stream",
     "text": [
      "Разница статистически значима \n",
      "p-value 0.0013 \n",
      "U-критерий 17323.0\n"
     ]
    }
   ],
   "source": [
    "stat, p_val = stats.mannwhitneyu(a,b,alternative = 'two-sided')\n",
    "if p_val > 0.05:\n",
    "    print('Статистически значимой разницы нет','\\np-value',round(p_val,4),'\\nU-критерий',stat)\n",
    "else:\n",
    "    print('Разница статистически значима','\\np-value',round(p_val,4),'\\nU-критерий',stat)"
   ]
  },
  {
   "cell_type": "markdown",
   "metadata": {},
   "source": [
    "## 7.3 Эффективное сравнение конверсий/долей. Критерий Хи-квадрат Пирсона"
   ]
  },
  {
   "cell_type": "markdown",
   "metadata": {},
   "source": [
    "Критерий Хи-квадарт позволяет нам сравнить отношения количества успеха к неуспехам в двух таблицах.Под успешным можем подразумевать не толькол совершение действия, но и любое желаемое число, например можем сравнить доли успешно закрытых заказов, доли женщин студентов от всей группы и так далее. Позволяет сравнивать больше чем два значения и довольно таки эффективно."
   ]
  },
  {
   "cell_type": "markdown",
   "metadata": {},
   "source": [
    "Суть теста - сравнить конверсии в успешное закрытие заказа. Давайте вместе сформулируем гипотезы)"
   ]
  },
  {
   "cell_type": "code",
   "execution_count": 52,
   "metadata": {},
   "outputs": [],
   "source": [
    "data = pd.read_csv('conversion_test.csv')"
   ]
  },
  {
   "cell_type": "code",
   "execution_count": 53,
   "metadata": {},
   "outputs": [
    {
     "data": {
      "text/html": [
       "<div>\n",
       "<style scoped>\n",
       "    .dataframe tbody tr th:only-of-type {\n",
       "        vertical-align: middle;\n",
       "    }\n",
       "\n",
       "    .dataframe tbody tr th {\n",
       "        vertical-align: top;\n",
       "    }\n",
       "\n",
       "    .dataframe thead th {\n",
       "        text-align: right;\n",
       "    }\n",
       "</style>\n",
       "<table border=\"1\" class=\"dataframe\">\n",
       "  <thead>\n",
       "    <tr style=\"text-align: right;\">\n",
       "      <th></th>\n",
       "      <th>Order</th>\n",
       "      <th>group</th>\n",
       "      <th>status</th>\n",
       "    </tr>\n",
       "  </thead>\n",
       "  <tbody>\n",
       "    <tr>\n",
       "      <th>0</th>\n",
       "      <td>1</td>\n",
       "      <td>1</td>\n",
       "      <td>0</td>\n",
       "    </tr>\n",
       "    <tr>\n",
       "      <th>1</th>\n",
       "      <td>2</td>\n",
       "      <td>1</td>\n",
       "      <td>0</td>\n",
       "    </tr>\n",
       "    <tr>\n",
       "      <th>2</th>\n",
       "      <td>3</td>\n",
       "      <td>1</td>\n",
       "      <td>1</td>\n",
       "    </tr>\n",
       "    <tr>\n",
       "      <th>3</th>\n",
       "      <td>4</td>\n",
       "      <td>1</td>\n",
       "      <td>1</td>\n",
       "    </tr>\n",
       "    <tr>\n",
       "      <th>4</th>\n",
       "      <td>5</td>\n",
       "      <td>1</td>\n",
       "      <td>0</td>\n",
       "    </tr>\n",
       "  </tbody>\n",
       "</table>\n",
       "</div>"
      ],
      "text/plain": [
       "   Order  group  status\n",
       "0      1      1       0\n",
       "1      2      1       0\n",
       "2      3      1       1\n",
       "3      4      1       1\n",
       "4      5      1       0"
      ]
     },
     "execution_count": 53,
     "metadata": {},
     "output_type": "execute_result"
    }
   ],
   "source": [
    "data.head()"
   ]
  },
  {
   "cell_type": "markdown",
   "metadata": {},
   "source": [
    "Критерий хи-квадарт вычисляем по формуле:"
   ]
  },
  {
   "cell_type": "markdown",
   "metadata": {},
   "source": [
    "![xi](data:image/png;base64,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)"
   ]
  },
  {
   "cell_type": "markdown",
   "metadata": {},
   "source": [
    "Эмпимрические значения - это те значения, которые мы получили на практике, в нашем случае это нашит реальные конверсии в заказ, а теоретические, это те конверсии, которые бы мы получили, если бы была верна нулевая гипотеза об отсутствии значимого различия, то есть они должны быть равны."
   ]
  },
  {
   "cell_type": "markdown",
   "metadata": {},
   "source": [
    "Если сравниваем 2 группы, то нужно не забыть про поправку Йетса:"
   ]
  },
  {
   "cell_type": "markdown",
   "metadata": {},
   "source": [
    "Использование хи-квадрат распределение интерпретировать хи-квадрат статистики Пирсона требует, чтобы предположить , что дискретная вероятность наблюдаемых биномиальных частот в таблице может быть приближена непрерывной распределения хи-квадрат . Это предположение не совсем правильно, и вводит некоторую погрешность.\n",
    "\n",
    "Для того, чтобы уменьшить погрешность в приближении Франк Йейтс , английский статистик , предложил поправку на непрерывность , которая регулирует формулу для хи-квадрат тест Пирсона путем вычитания 0,5 из разницы между каждой наблюдаемой величиной и его ожидаемого значения в таблице 2 × 2 на случай чрезвычайных ситуаций , Это уменьшает хи-квадрат значение , полученное и тем самым увеличивает ее p -value\n",
    "\n",
    "Подробнее - https://ru.qwe.wiki/wiki/Yates's_correction_for_continuity"
   ]
  },
  {
   "cell_type": "markdown",
   "metadata": {},
   "source": [
    "![y](https://i.pinimg.com/564x/21/1c/f6/211cf639d8948d5a0df3d63beca311d2.jpg)"
   ]
  },
  {
   "cell_type": "markdown",
   "metadata": {},
   "source": [
    "Если мы сравниваем больше 2-х значений, то есть таблица сопряженности не 2на2, то вводить поправку Йетса не нужно"
   ]
  },
  {
   "cell_type": "markdown",
   "metadata": {},
   "source": [
    "***Составляем таблицу сопряженности***"
   ]
  },
  {
   "cell_type": "markdown",
   "metadata": {},
   "source": [
    "Таблица сопряжённости, или таблица контингентности, факторная таблица в статистике — средство представления совместного распределения двух переменных, предназначенное для исследования связи между ними. Таблица сопряжённости является наиболее универсальным средством изучения статистических связей, так как в ней могут быть представлены переменные с любым уровнем измерения. Таблицы сопряжённости часто используются для проверки гипотезы о наличии связи между двумя признаками с использованием точного теста Фишера или критерия согласия Пирсона."
   ]
  },
  {
   "cell_type": "markdown",
   "metadata": {},
   "source": [
    "Подробнее о структуре таких таблиц - https://ru.wikipedia.org/wiki/%D0%A2%D0%B0%D0%B1%D0%BB%D0%B8%D1%86%D0%B0_%D1%81%D0%BE%D0%BF%D1%80%D1%8F%D0%B6%D1%91%D0%BD%D0%BD%D0%BE%D1%81%D1%82%D0%B8"
   ]
  },
  {
   "cell_type": "code",
   "execution_count": 54,
   "metadata": {},
   "outputs": [
    {
     "data": {
      "text/html": [
       "<div>\n",
       "<style scoped>\n",
       "    .dataframe tbody tr th:only-of-type {\n",
       "        vertical-align: middle;\n",
       "    }\n",
       "\n",
       "    .dataframe tbody tr th {\n",
       "        vertical-align: top;\n",
       "    }\n",
       "\n",
       "    .dataframe thead th {\n",
       "        text-align: right;\n",
       "    }\n",
       "</style>\n",
       "<table border=\"1\" class=\"dataframe\">\n",
       "  <thead>\n",
       "    <tr style=\"text-align: right;\">\n",
       "      <th>status</th>\n",
       "      <th>0</th>\n",
       "      <th>1</th>\n",
       "      <th>All</th>\n",
       "    </tr>\n",
       "    <tr>\n",
       "      <th>group</th>\n",
       "      <th></th>\n",
       "      <th></th>\n",
       "      <th></th>\n",
       "    </tr>\n",
       "  </thead>\n",
       "  <tbody>\n",
       "    <tr>\n",
       "      <th>0</th>\n",
       "      <td>189</td>\n",
       "      <td>189</td>\n",
       "      <td>378</td>\n",
       "    </tr>\n",
       "    <tr>\n",
       "      <th>1</th>\n",
       "      <td>186</td>\n",
       "      <td>190</td>\n",
       "      <td>376</td>\n",
       "    </tr>\n",
       "    <tr>\n",
       "      <th>All</th>\n",
       "      <td>375</td>\n",
       "      <td>379</td>\n",
       "      <td>754</td>\n",
       "    </tr>\n",
       "  </tbody>\n",
       "</table>\n",
       "</div>"
      ],
      "text/plain": [
       "status    0    1  All\n",
       "group                \n",
       "0       189  189  378\n",
       "1       186  190  376\n",
       "All     375  379  754"
      ]
     },
     "execution_count": 54,
     "metadata": {},
     "output_type": "execute_result"
    }
   ],
   "source": [
    "table = pd.crosstab(\n",
    "    data['group'],\n",
    "    data['status'],\n",
    "    margins = True\n",
    ")\n",
    "table\n",
    "\n",
    "table1 = pd.crosstab(\n",
    "    data['group'],\n",
    "    data['status']\n",
    ")\n",
    "table"
   ]
  },
  {
   "cell_type": "code",
   "execution_count": 55,
   "metadata": {},
   "outputs": [],
   "source": [
    "def Chisq(table):\n",
    "    expected = []\n",
    "    obs1 = np.append(table.iloc[0][0:2].values, table.iloc[1][0:2].values)\n",
    "    rows = table.iloc[0:2,2].values\n",
    "    cols = table.iloc[2,0:2].values\n",
    "    total = table.loc['All','All']\n",
    "    for count in range(2):\n",
    "        for column in cols:\n",
    "            expected.append((column*rows[count])/total)\n",
    "    obs = obs1 + 0.5 * np.sign(expected - obs1)\n",
    "    return sum(((obs - expected)**2)/expected)"
   ]
  },
  {
   "cell_type": "markdown",
   "metadata": {},
   "source": [
    "**degrees of freedom:** (rows - 1) * (cols - 1)\n",
    "* в нашем случае: (2-1) * (2-1) = 1 * 1 = 1\n"
   ]
  },
  {
   "cell_type": "code",
   "execution_count": 56,
   "metadata": {},
   "outputs": [
    {
     "data": {
      "text/plain": [
       "0.005361664602799366"
      ]
     },
     "execution_count": 56,
     "metadata": {},
     "output_type": "execute_result"
    }
   ],
   "source": [
    "Chisq(table)"
   ]
  },
  {
   "cell_type": "code",
   "execution_count": 57,
   "metadata": {},
   "outputs": [
    {
     "data": {
      "text/plain": [
       "0.9416283551235602"
      ]
     },
     "execution_count": 57,
     "metadata": {},
     "output_type": "execute_result"
    }
   ],
   "source": [
    "1 - stats.chi2.cdf(Chisq(table),1)"
   ]
  },
  {
   "cell_type": "code",
   "execution_count": 58,
   "metadata": {},
   "outputs": [
    {
     "name": "stdout",
     "output_type": "stream",
     "text": [
      "Не можем отвергнуть нулевую гипотезу о том, что доли не имеют значимого различия \n",
      "Хи-квадрат критерий= 0.005361664602799366 \n",
      "p-value =  0.9416283551235602\n"
     ]
    }
   ],
   "source": [
    "p_value = 1 - stats.chi2.cdf(Chisq(table),1)\n",
    "\n",
    "if p_value > 0.05:\n",
    "    print('Не можем отвергнуть нулевую гипотезу о том, что доли не имеют значимого различия', '\\nХи-квадрат критерий=',Chisq(table),'\\np-value = ',p_value)\n",
    "else:\n",
    "    print('Не можем принять нулевую гипотезу о том, что доли не имеют значимого различия','\\nХи-квадрат критерий=',Chisq(table),'\\np-value = ',p_value)"
   ]
  },
  {
   "cell_type": "code",
   "execution_count": 59,
   "metadata": {},
   "outputs": [],
   "source": [
    "stat = stats.chi2_contingency(table1)"
   ]
  },
  {
   "cell_type": "code",
   "execution_count": 60,
   "metadata": {},
   "outputs": [
    {
     "data": {
      "text/html": [
       "<div>\n",
       "<style scoped>\n",
       "    .dataframe tbody tr th:only-of-type {\n",
       "        vertical-align: middle;\n",
       "    }\n",
       "\n",
       "    .dataframe tbody tr th {\n",
       "        vertical-align: top;\n",
       "    }\n",
       "\n",
       "    .dataframe thead th {\n",
       "        text-align: right;\n",
       "    }\n",
       "</style>\n",
       "<table border=\"1\" class=\"dataframe\">\n",
       "  <thead>\n",
       "    <tr style=\"text-align: right;\">\n",
       "      <th>status</th>\n",
       "      <th>0</th>\n",
       "      <th>1</th>\n",
       "    </tr>\n",
       "    <tr>\n",
       "      <th>group</th>\n",
       "      <th></th>\n",
       "      <th></th>\n",
       "    </tr>\n",
       "  </thead>\n",
       "  <tbody>\n",
       "    <tr>\n",
       "      <th>0</th>\n",
       "      <td>189</td>\n",
       "      <td>189</td>\n",
       "    </tr>\n",
       "    <tr>\n",
       "      <th>1</th>\n",
       "      <td>186</td>\n",
       "      <td>190</td>\n",
       "    </tr>\n",
       "  </tbody>\n",
       "</table>\n",
       "</div>"
      ],
      "text/plain": [
       "status    0    1\n",
       "group           \n",
       "0       189  189\n",
       "1       186  190"
      ]
     },
     "execution_count": 60,
     "metadata": {},
     "output_type": "execute_result"
    }
   ],
   "source": [
    "table1"
   ]
  },
  {
   "cell_type": "code",
   "execution_count": 61,
   "metadata": {},
   "outputs": [
    {
     "name": "stdout",
     "output_type": "stream",
     "text": [
      "p-value = 0.9416283551235602 \n",
      "chi stat =  0.005361664602799366 \n",
      "нет значимой разницы\n"
     ]
    }
   ],
   "source": [
    "stat = stats.chi2_contingency(table1)\n",
    "if stat[1] > 0.001:\n",
    "    print('p-value =',stat[1],'\\nchi stat = ',stat[0],'\\nнет значимой разницы')\n",
    "else:\n",
    "    print('p-value =',stat[1],'\\nchi stat = ',stat[0],'\\nесть значимая разница')"
   ]
  }
 ],
 "metadata": {
  "hide_input": false,
  "kernelspec": {
   "display_name": "Python 3",
   "language": "python",
   "name": "python3"
  },
  "language_info": {
   "codemirror_mode": {
    "name": "ipython",
    "version": 3
   },
   "file_extension": ".py",
   "mimetype": "text/x-python",
   "name": "python",
   "nbconvert_exporter": "python",
   "pygments_lexer": "ipython3",
   "version": "3.7.5"
  },
  "latex_envs": {
   "LaTeX_envs_menu_present": true,
   "autoclose": false,
   "autocomplete": true,
   "bibliofile": "biblio.bib",
   "cite_by": "apalike",
   "current_citInitial": 1,
   "eqLabelWithNumbers": true,
   "eqNumInitial": 1,
   "hotkeys": {
    "equation": "Ctrl-E",
    "itemize": "Ctrl-I"
   },
   "labels_anchors": false,
   "latex_user_defs": false,
   "report_style_numbering": false,
   "user_envs_cfg": false
  },
  "toc": {
   "base_numbering": 1,
   "nav_menu": {},
   "number_sections": false,
   "sideBar": true,
   "skip_h1_title": false,
   "title_cell": "Table of Contents",
   "title_sidebar": "Содержание лекции",
   "toc_cell": false,
   "toc_position": {
    "height": "calc(100% - 180px)",
    "left": "10px",
    "top": "150px",
    "width": "341px"
   },
   "toc_section_display": true,
   "toc_window_display": true
  }
 },
 "nbformat": 4,
 "nbformat_minor": 2
}
